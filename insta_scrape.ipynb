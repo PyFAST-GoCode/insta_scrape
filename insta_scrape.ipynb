{
 "cells": [
  {
   "cell_type": "code",
   "execution_count": 1,
   "metadata": {},
   "outputs": [
    {
     "name": "stdout",
     "output_type": "stream",
     "text": [
      "QVFDQUdMSFZzZ1BxblZXXzZlNW0yU18yZEVPTUJ2cEstQjE3Q09ZNjEwXzNmSTFCZEwxNkNEQkpGUFc1b045OFN5UFdQREV3dVhfSDNYaElORjVtN2dUdA==\n"
     ]
    }
   ],
   "source": [
    "import requests\n",
    "import time\n",
    "import json\n",
    "arr = []\n",
    "end_cursor = '' # empty for the 1st page\n",
    "tag = 'fruita' # hastag goes here - set up to take a list of hashtags for future iterations\n",
    "page_count = 2 # adjust var for desired num of pages\n",
    "for i in range(0, page_count):\n",
    "    url = \"https://www.instagram.com/explore/tags/{0}/?__a=1&max_id={1}\".format(tag, end_cursor)\n",
    "    r = requests.get(url)\n",
    "    data = json.loads(r.text)\n",
    "    \n",
    "    end_cursor = data['graphql']['hashtag']['edge_hashtag_to_media']['page_info']['end_cursor'] # value for the next page\n",
    "    edges = data['graphql']['hashtag']['edge_hashtag_to_media']['edges'] # list with posts\n",
    "    \n",
    "    for item in edges:\n",
    "       arr.append(item['node'])\n",
    "    time.sleep(2) # time limit insurance\n",
    "print(end_cursor) # save this to restart parsing with the next page\n",
    "with open('insta_posts.json', 'w') as outfile:\n",
    "    json.dump(arr, outfile) # save to json"
   ]
  },
  {
   "cell_type": "code",
   "execution_count": 2,
   "metadata": {},
   "outputs": [],
   "source": [
    "with open('insta_posts.json', 'r') as f:\n",
    "    arr = json.loads(f.read()) # load json data from previous step\n",
    "locations = []\n",
    "for item in arr:\n",
    "    shortcode = item['shortcode']\n",
    "    url = \"https://www.instagram.com/p/{0}/?__a=1\".format(shortcode)\n",
    "    \n",
    "    r = requests.get(url)\n",
    "    data = json.loads(r.text)\n",
    "    try:\n",
    "        location = data['graphql']['shortcode_media']['location'] # get location data for a post\n",
    "\n",
    "    except:\n",
    "         location = '' \n",
    "    locations.append({'shortcode': shortcode, 'location': location})\n",
    "with open('location_data.json', 'w') as outfile:\n",
    "    json.dump(locations, outfile) # save to json\n",
    "    "
   ]
  },
  {
   "cell_type": "code",
   "execution_count": null,
   "metadata": {},
   "outputs": [],
   "source": []
  },
  {
   "cell_type": "code",
   "execution_count": null,
   "metadata": {},
   "outputs": [],
   "source": []
  },
  {
   "cell_type": "code",
   "execution_count": null,
   "metadata": {},
   "outputs": [],
   "source": []
  }
 ],
 "metadata": {
  "kernelspec": {
   "display_name": "Python 3",
   "language": "python",
   "name": "python3"
  },
  "language_info": {
   "codemirror_mode": {
    "name": "ipython",
    "version": 3
   },
   "file_extension": ".py",
   "mimetype": "text/x-python",
   "name": "python",
   "nbconvert_exporter": "python",
   "pygments_lexer": "ipython3",
   "version": "3.7.4"
  }
 },
 "nbformat": 4,
 "nbformat_minor": 2
}
